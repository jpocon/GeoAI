{
  "nbformat": 4,
  "nbformat_minor": 0,
  "metadata": {
    "colab": {
      "name": "AAG_ML_Workshop.ipynb",
      "provenance": [],
      "mount_file_id": "1bXxtUKnGG5nV1noUUgPYUlRZ_GmZE-We",
      "authorship_tag": "ABX9TyO/XC+X3/1Yx/oScKsjwQwK",
      "include_colab_link": true
    },
    "kernelspec": {
      "name": "python3",
      "display_name": "Python 3"
    },
    "accelerator": "TPU"
  },
  "cells": [
    {
      "cell_type": "markdown",
      "metadata": {
        "id": "view-in-github",
        "colab_type": "text"
      },
      "source": [
        "<a href=\"https://colab.research.google.com/github/jpocon/GeoAI/blob/main/AAG_ML_Workshop.ipynb\" target=\"_parent\"><img src=\"https://colab.research.google.com/assets/colab-badge.svg\" alt=\"Open In Colab\"/></a>"
      ]
    },
    {
      "cell_type": "code",
      "metadata": {
        "colab": {
          "base_uri": "https://localhost:8080/"
        },
        "id": "4aHbjO0hWtpc",
        "outputId": "bdd1c59a-733f-489d-bafc-4cc5ed82cca6"
      },
      "source": [
        "#-------------------------------------------\n",
        "\n",
        "# \n",
        "# AAG Machine Learning Worksop - Dr. Hu\n",
        "# Demo Day 1 - 02/09/2021\n",
        "# Follow along with Lecture 3 pdf\n",
        "# \n",
        "\n",
        "#-------------------------------------------\n",
        "\n",
        "# Python review\n",
        "my_list = [\"Buffalo\", \"DC\", \"NYC\", \"LA\"]\n",
        "my_list.append(\"Seattle\")\n",
        "my_list.remove(\"NYC\")\n",
        "my_list"
      ],
      "execution_count": null,
      "outputs": [
        {
          "output_type": "execute_result",
          "data": {
            "text/plain": [
              "['Buffalo', 'DC', 'LA', 'Seattle']"
            ]
          },
          "metadata": {
            "tags": []
          },
          "execution_count": 8
        }
      ]
    },
    {
      "cell_type": "code",
      "metadata": {
        "colab": {
          "base_uri": "https://localhost:8080/",
          "height": 35
        },
        "id": "TNi0asNBYrKQ",
        "outputId": "0a35b1ca-d1d3-463b-e057-9daddb7b807f"
      },
      "source": [
        "# Dictionaries\n",
        "pA = {\"nm\":\"Dr. J\", \"loc\":\"Ceres Station\"}\n",
        "pA[\"nm\"]"
      ],
      "execution_count": null,
      "outputs": [
        {
          "output_type": "execute_result",
          "data": {
            "application/vnd.google.colaboratory.intrinsic+json": {
              "type": "string"
            },
            "text/plain": [
              "'Dr. J'"
            ]
          },
          "metadata": {
            "tags": []
          },
          "execution_count": 7
        }
      ]
    },
    {
      "cell_type": "code",
      "metadata": {
        "colab": {
          "base_uri": "https://localhost:8080/"
        },
        "id": "0HCeQp8MZRkE",
        "outputId": "23bcf36f-f086-40f3-8314-63fee4e6044f"
      },
      "source": [
        "# Functions\n",
        "def funktion(nm, deg):\n",
        "  print(\"My name is \"+nm+\", my degree is \"+deg)\n",
        "\n",
        "funktion(\"Dr. J\", \"PhD\")"
      ],
      "execution_count": null,
      "outputs": [
        {
          "output_type": "stream",
          "text": [
            "My name is Dr. J, my degree is PhD\n"
          ],
          "name": "stdout"
        }
      ]
    },
    {
      "cell_type": "code",
      "metadata": {
        "id": "KaTzFw3Qb2mk"
      },
      "source": [
        "# Imports\n",
        "!pip install scikit-learn\n",
        "import sklearn as skl\n",
        "!pip install rasterio\n",
        "import rasterio as rio\n",
        "!pip install geopandas\n",
        "import geopandas as gps\n",
        "import pandas as pd"
      ],
      "execution_count": null,
      "outputs": []
    },
    {
      "cell_type": "code",
      "metadata": {
        "colab": {
          "base_uri": "https://localhost:8080/",
          "height": 143
        },
        "id": "q35nA3naddp4",
        "outputId": "f8c1d33f-2425-4a27-d4b7-34fa599663ba"
      },
      "source": [
        "# Dataframes with Pandas\n",
        "data = [['JJ',30],['Bobby',60],['CJ',20]] #2D matrix\n",
        "df = pd.DataFrame(data, columns=['nombre','time left to live (secs)']) #dataframe from 2D matrix\n",
        "df"
      ],
      "execution_count": null,
      "outputs": [
        {
          "output_type": "execute_result",
          "data": {
            "text/html": [
              "<div>\n",
              "<style scoped>\n",
              "    .dataframe tbody tr th:only-of-type {\n",
              "        vertical-align: middle;\n",
              "    }\n",
              "\n",
              "    .dataframe tbody tr th {\n",
              "        vertical-align: top;\n",
              "    }\n",
              "\n",
              "    .dataframe thead th {\n",
              "        text-align: right;\n",
              "    }\n",
              "</style>\n",
              "<table border=\"1\" class=\"dataframe\">\n",
              "  <thead>\n",
              "    <tr style=\"text-align: right;\">\n",
              "      <th></th>\n",
              "      <th>nombre</th>\n",
              "      <th>time left to live (secs)</th>\n",
              "    </tr>\n",
              "  </thead>\n",
              "  <tbody>\n",
              "    <tr>\n",
              "      <th>0</th>\n",
              "      <td>JJ</td>\n",
              "      <td>30</td>\n",
              "    </tr>\n",
              "    <tr>\n",
              "      <th>1</th>\n",
              "      <td>Bobby</td>\n",
              "      <td>60</td>\n",
              "    </tr>\n",
              "    <tr>\n",
              "      <th>2</th>\n",
              "      <td>CJ</td>\n",
              "      <td>20</td>\n",
              "    </tr>\n",
              "  </tbody>\n",
              "</table>\n",
              "</div>"
            ],
            "text/plain": [
              "  nombre  time left to live (secs)\n",
              "0     JJ                        30\n",
              "1  Bobby                        60\n",
              "2     CJ                        20"
            ]
          },
          "metadata": {
            "tags": []
          },
          "execution_count": 19
        }
      ]
    },
    {
      "cell_type": "code",
      "metadata": {
        "id": "0W6ugl-7fUdA"
      },
      "source": [
        "# Dataframe from csv with Pandas\n",
        "df = pd.read_csv('/content/drive/MyDrive/Workshops/AAG_Machine_Learning_Workshop/Data/file_demo.csv') #right-click 'copy path' from Drive (right panel)"
      ],
      "execution_count": null,
      "outputs": []
    },
    {
      "cell_type": "code",
      "metadata": {
        "colab": {
          "base_uri": "https://localhost:8080/",
          "height": 69
        },
        "id": "Jes37Z3PlCM0",
        "outputId": "9c655aa5-8bd6-4079-c879-13446222ce58"
      },
      "source": [
        "# Shapefiles with GeoPandas\n",
        "world_shp = gps.read_file('/content/drive/MyDrive/Workshops/AAG_Machine_Learning_Workshop/Data/Countries_2007.shp')\n",
        "world_shp.head(0)"
      ],
      "execution_count": null,
      "outputs": [
        {
          "output_type": "execute_result",
          "data": {
            "text/html": [
              "<div>\n",
              "<style scoped>\n",
              "    .dataframe tbody tr th:only-of-type {\n",
              "        vertical-align: middle;\n",
              "    }\n",
              "\n",
              "    .dataframe tbody tr th {\n",
              "        vertical-align: top;\n",
              "    }\n",
              "\n",
              "    .dataframe thead th {\n",
              "        text-align: right;\n",
              "    }\n",
              "</style>\n",
              "<table border=\"1\" class=\"dataframe\">\n",
              "  <thead>\n",
              "    <tr style=\"text-align: right;\">\n",
              "      <th></th>\n",
              "      <th>FIPS_CNTRY</th>\n",
              "      <th>GMI_CNTRY</th>\n",
              "      <th>ISO_2DIGIT</th>\n",
              "      <th>ISO_3DIGIT</th>\n",
              "      <th>ISO_NUM</th>\n",
              "      <th>CNTRY_NAME</th>\n",
              "      <th>LONG_NAME</th>\n",
              "      <th>ISOSHRTNAM</th>\n",
              "      <th>UNSHRTNAM</th>\n",
              "      <th>LOCSHRTNAM</th>\n",
              "      <th>LOCLNGNAM</th>\n",
              "      <th>STATUS</th>\n",
              "      <th>SQKM</th>\n",
              "      <th>SQMI</th>\n",
              "      <th>POP2007</th>\n",
              "      <th>POP2015</th>\n",
              "      <th>POP2025</th>\n",
              "      <th>POP014_07</th>\n",
              "      <th>POP1564_07</th>\n",
              "      <th>HIVAIDSTOT</th>\n",
              "      <th>HIVAIDS_YR</th>\n",
              "      <th>HIVDTH</th>\n",
              "      <th>HIVDTH_YR</th>\n",
              "      <th>Shape_Leng</th>\n",
              "      <th>Shape_Area</th>\n",
              "      <th>TOTCO2_200</th>\n",
              "      <th>GDP_USD</th>\n",
              "      <th>GDP_YR</th>\n",
              "      <th>IMPORT_USD</th>\n",
              "      <th>IMPORT_YR</th>\n",
              "      <th>EXPORT_USD</th>\n",
              "      <th>EXPORT_YR</th>\n",
              "      <th>geometry</th>\n",
              "    </tr>\n",
              "  </thead>\n",
              "  <tbody>\n",
              "  </tbody>\n",
              "</table>\n",
              "</div>"
            ],
            "text/plain": [
              "Empty GeoDataFrame\n",
              "Columns: [FIPS_CNTRY, GMI_CNTRY, ISO_2DIGIT, ISO_3DIGIT, ISO_NUM, CNTRY_NAME, LONG_NAME, ISOSHRTNAM, UNSHRTNAM, LOCSHRTNAM, LOCLNGNAM, STATUS, SQKM, SQMI, POP2007, POP2015, POP2025, POP014_07, POP1564_07, HIVAIDSTOT, HIVAIDS_YR, HIVDTH, HIVDTH_YR, Shape_Leng, Shape_Area, TOTCO2_200, GDP_USD, GDP_YR, IMPORT_USD, IMPORT_YR, EXPORT_USD, EXPORT_YR, geometry]\n",
              "Index: []"
            ]
          },
          "metadata": {
            "tags": []
          },
          "execution_count": 30
        }
      ]
    },
    {
      "cell_type": "code",
      "metadata": {
        "colab": {
          "base_uri": "https://localhost:8080/"
        },
        "id": "nl56TYJPlgWg",
        "outputId": "e28bd040-584c-431d-8585-6a9c31aa4820"
      },
      "source": [
        "type(world_shp)\n",
        "type(world_shp['geometry'])\n",
        "type(world_shp['CNTRY_NAME'])\n",
        "world_shp.plot"
      ],
      "execution_count": null,
      "outputs": [
        {
          "output_type": "execute_result",
          "data": {
            "text/plain": [
              "<bound method GeoDataFrame.plot of     FIPS_CNTRY  ...                                           geometry\n",
              "0           FK  ...  MULTIPOLYGON (((-59.34806 -52.34305, -59.37945...\n",
              "1           FG  ...  POLYGON ((-54.60378 2.32919, -54.49917 2.36500...\n",
              "2           GY  ...  POLYGON ((-58.17262 6.81222, -58.15494 6.82819...\n",
              "3           PC  ...  MULTIPOLYGON (((-128.33222 -24.32726, -128.326...\n",
              "4           SX  ...  MULTIPOLYGON (((-36.99139 -54.35056, -36.99973...\n",
              "..         ...  ...                                                ...\n",
              "244         BP  ...  MULTIPOLYGON (((160.82025 -9.82945, 160.82524 ...\n",
              "245         TV  ...  MULTIPOLYGON (((179.21323 -8.56129, 179.20241 ...\n",
              "246         NH  ...  MULTIPOLYGON (((167.10782 -15.12370, 167.13136...\n",
              "247         MJ  ...  POLYGON ((18.45555 42.56583, 18.46389 42.56945...\n",
              "248         RB  ...  POLYGON ((20.07142 42.56091, 20.09993 42.65770...\n",
              "\n",
              "[249 rows x 33 columns]>"
            ]
          },
          "metadata": {
            "tags": []
          },
          "execution_count": 31
        }
      ]
    },
    {
      "cell_type": "code",
      "metadata": {
        "id": "8qbS7t5omld8"
      },
      "source": [
        ""
      ],
      "execution_count": null,
      "outputs": []
    }
  ]
}